{
 "cells": [
  {
   "cell_type": "markdown",
   "id": "118f3a2a",
   "metadata": {},
   "source": [
    "# Spoken Language Processing in Python: Natural Language processing"
   ]
  },
  {
   "cell_type": "markdown",
   "id": "d7b23b3b",
   "metadata": {},
   "source": [
    "This notebook is based on DataCamp Course 'Spoken Language Processing in Python'. Several ways to import, process, transform and transcribe speech and audio files is mentioned."
   ]
  },
  {
   "cell_type": "markdown",
   "id": "94be67eb",
   "metadata": {},
   "source": [
    "# Create wave object and convert frames as bytes"
   ]
  },
  {
   "cell_type": "code",
   "execution_count": 1,
   "id": "dc1d3359",
   "metadata": {},
   "outputs": [
    {
     "name": "stdout",
     "output_type": "stream",
     "text": [
      "b'\\xfd\\xff\\xfb\\xff\\xf8\\xff\\xf8\\xff\\xf7\\xff'\n"
     ]
    }
   ],
   "source": [
    "# import wave and matplotlib.pyplot\n",
    "import wave\n",
    "import matplotlib.pyplot as plt\n",
    "\n",
    "# Create audio file wave object\n",
    "good_morning = wave.open('good_morning.wav', 'r')\n",
    "\n",
    "# Read all frames from wave object(convert into bytes) \n",
    "signal_gm = good_morning.readframes(-1)\n",
    "\n",
    "# View first 10\n",
    "print(signal_gm[:10])"
   ]
  },
  {
   "cell_type": "code",
   "execution_count": 2,
   "id": "a63009df",
   "metadata": {},
   "outputs": [
    {
     "name": "stdout",
     "output_type": "stream",
     "text": [
      "[ -3  -5  -8  -8  -9 -13  -8 -10  -9 -11]\n"
     ]
    }
   ],
   "source": [
    "import numpy as np\n",
    "\n",
    "# Open good morning sound wave and read frames as bytes\n",
    "good_morning = wave.open('good_morning.wav', 'r')\n",
    "signal_gm = good_morning.readframes(-1)\n",
    "\n",
    "# Convert good morning audio bytes to integers\n",
    "soundwave_gm = np.frombuffer(signal_gm, dtype='int16')\n",
    "\n",
    "# View the first 10 sound wave values\n",
    "print(soundwave_gm[:10])"
   ]
  },
  {
   "cell_type": "markdown",
   "id": "95a3bd73",
   "metadata": {},
   "source": [
    "# Finding timestamps"
   ]
  },
  {
   "cell_type": "code",
   "execution_count": 3,
   "id": "f14a9070",
   "metadata": {},
   "outputs": [
    {
     "name": "stdout",
     "output_type": "stream",
     "text": [
      "[0.00000000e+00 2.08334167e-05 4.16668333e-05 6.25002500e-05\n",
      " 8.33336667e-05 1.04167083e-04 1.25000500e-04 1.45833917e-04\n",
      " 1.66667333e-04 1.87500750e-04]\n"
     ]
    }
   ],
   "source": [
    "# Read in sound wave and convert from bytes to integers\n",
    "good_morning = wave.open('good_morning.wav', 'r')\n",
    "signal_gm = good_morning.readframes(-1)\n",
    "soundwave_gm = np.frombuffer(signal_gm, dtype='int16')\n",
    "\n",
    "# Get the sound wave frame rate\n",
    "framerate_gm = good_morning.getframerate()\n",
    "\n",
    "# Find the sound wave timestamps\n",
    "time_gm = np.linspace(start=0,\n",
    "                      stop=len(soundwave_gm)/framerate_gm, num=len(soundwave_gm))\n",
    "\n",
    "# Print the first 10 timestamps\n",
    "print(time_gm[:10])"
   ]
  },
  {
   "cell_type": "code",
   "execution_count": 4,
   "id": "7c05ab6c",
   "metadata": {},
   "outputs": [
    {
     "name": "stdout",
     "output_type": "stream",
     "text": [
      "[0.00000000e+00 2.08333960e-05 4.16667921e-05 6.25001881e-05\n",
      " 8.33335841e-05 1.04166980e-04 1.25000376e-04 1.45833772e-04\n",
      " 1.66667168e-04 1.87500564e-04]\n"
     ]
    }
   ],
   "source": [
    "# Read in sound wave and convert from bytes to integers\n",
    "good_afternoon = wave.open('good_afternoon.wav', 'r')\n",
    "signal_ga= good_afternoon.readframes(-1)\n",
    "soundwave_ga = np.frombuffer(signal_ga, dtype='int16')\n",
    "\n",
    "# Get the sound wave frame rate\n",
    "framerate_ga = good_afternoon.getframerate()\n",
    "\n",
    "# Find the sound wave timestamps\n",
    "time_ga = np.linspace(start=0,\n",
    "                      stop=len(soundwave_ga)/framerate_ga, num=len(soundwave_ga))\n",
    "\n",
    "# Print the first 10 timestamps\n",
    "print(time_ga[:10])"
   ]
  },
  {
   "cell_type": "markdown",
   "id": "9d8e70a7",
   "metadata": {},
   "source": [
    "# Visualizing Soundwaves"
   ]
  },
  {
   "cell_type": "code",
   "execution_count": 5,
   "id": "f632490f",
   "metadata": {},
   "outputs": [
    {
     "data": {
      "image/png": "[encoded data removed]",
      "text/plain": [
       "<Figure size 432x288 with 1 Axes>"
      ]
     },
     "metadata": {
      "needs_background": "light"
     },
     "output_type": "display_data"
    }
   ],
   "source": [
    "# same above preprocessing is done to good afternoon audio\n",
    "# Setup the title and axis titles\n",
    "plt.title('Good Afternoon vs. Good Morning')\n",
    "plt.ylabel('Amplitude')\n",
    "plt.xlabel('Time (seconds)')\n",
    "\n",
    "# Add the Good Afternoon data to the plot\n",
    "plt.plot(time_ga, soundwave_ga, label='Good Afternoon')\n",
    "\n",
    "# Add the Good Morning data to the plot\n",
    "plt.plot(time_gm, soundwave_gm, label='Good Morning',\n",
    "   # Set the alpha variable to 0.5 to make good morning graph a bit transparent\n",
    "   alpha=0.5)\n",
    "\n",
    "plt.legend()\n",
    "plt.show()"
   ]
  },
  {
   "cell_type": "markdown",
   "id": "2d662e3b",
   "metadata": {},
   "source": [
    "# Speech Recognition"
   ]
  },
  {
   "cell_type": "code",
   "execution_count": 6,
   "id": "bfb57c11",
   "metadata": {},
   "outputs": [],
   "source": [
    "# Importing the speech_recognition library\n",
    "import speech_recognition as sr\n",
    "\n",
    "# Create an instance of the Recognizer class\n",
    "recognizer = sr.Recognizer()\n",
    "\n",
    "# Set the energy threshold, this is minimum threshold for speech, below that it is considered silence, \n",
    "#usually a queit room is b/w 0-100\n",
    "recognizer.energy_threshold = 300"
   ]
  },
  {
   "cell_type": "markdown",
   "id": "3e5f8947",
   "metadata": {},
   "source": [
    "# Convert AudioFile to AudioData"
   ]
  },
  {
   "cell_type": "code",
   "execution_count": 7,
   "id": "973fcc9e",
   "metadata": {},
   "outputs": [
    {
     "name": "stdout",
     "output_type": "stream",
     "text": [
      "hello I want to get some help setting up my time please\n"
     ]
    }
   ],
   "source": [
    "# Instantiate Recognizer\n",
    "recognizer = sr.Recognizer()\n",
    "\n",
    "# Convert audio to AudioFile\n",
    "clean_support_call = sr.AudioFile('clean_support_call.wav')\n",
    "\n",
    "# Convert AudioFile to AudioData\n",
    "with clean_support_call as source:\n",
    "    clean_support_call_audio = recognizer.record(source)\n",
    "\n",
    "# Transcribe AudioData to text\n",
    "text = recognizer.recognize_google(clean_support_call_audio, language=\"en-US\")\n",
    "print(text)"
   ]
  },
  {
   "cell_type": "code",
   "execution_count": 8,
   "id": "56dca23e",
   "metadata": {},
   "outputs": [
    {
     "name": "stdout",
     "output_type": "stream",
     "text": [
      "this Odia call has 30 seconds of nothing at the end\n"
     ]
    }
   ],
   "source": [
    "# Convert AudioFile to AudioData\n",
    "nothing_at_end= sr.AudioFile('30-seconds-of-nothing-16k.wav')\n",
    "with nothing_at_end as source:\n",
    "    nothing_at_end_audio = recognizer.record(source,\n",
    "                                             duration=10,\n",
    "                                             offset=None)\n",
    "\n",
    "# Transcribe AudioData to text\n",
    "text = recognizer.recognize_google(nothing_at_end_audio,\n",
    "                                   language=\"en-US\")\n",
    "\n",
    "print(text)"
   ]
  },
  {
   "cell_type": "code",
   "execution_count": 9,
   "id": "dc2a14ec",
   "metadata": {},
   "outputs": [
    {
     "name": "stdout",
     "output_type": "stream",
     "text": [
      "おはようございます\n"
     ]
    }
   ],
   "source": [
    "# Pass the Japanese audio to recognize_google\n",
    "japanese_gm = sr.AudioFile('good_morning_japanense.wav')\n",
    "with japanese_gm as source:\n",
    "    japanese_audio = recognizer.record(source)\n",
    "\n",
    "text = recognizer.recognize_google(japanese_audio, language='ja')\n",
    "\n",
    "# Print the text\n",
    "print(text)"
   ]
  },
  {
   "cell_type": "markdown",
   "id": "ac0bf2aa",
   "metadata": {},
   "source": [
    "# Multiple speakers"
   ]
  },
  {
   "cell_type": "code",
   "execution_count": 10,
   "id": "785911ca",
   "metadata": {},
   "outputs": [
    {
     "name": "stdout",
     "output_type": "stream",
     "text": [
      "limitations of the speech recognition library different speakers am voices was one property tax\n"
     ]
    }
   ],
   "source": [
    "# Create a recognizer class\n",
    "recognizer = sr.Recognizer()\n",
    "\n",
    "multiple_speakers = sr.AudioFile('multiple-speakers-16k.wav')\n",
    "\n",
    "with multiple_speakers as source:\n",
    "    multiple_speakers_audio = recognizer.record(source)\n",
    "\n",
    "# Recognize the multiple speaker AudioData\n",
    "text = recognizer.recognize_google(multiple_speakers_audio,language=\"en-US\")\n",
    "\n",
    "# Print the text\n",
    "print(text)"
   ]
  },
  {
   "cell_type": "markdown",
   "id": "f7331aa8",
   "metadata": {},
   "source": [
    "Note: recognize_google can recognize only one speaker. Other paid APIs can be used to split multiple speakers."
   ]
  },
  {
   "cell_type": "markdown",
   "id": "10da108e",
   "metadata": {},
   "source": [
    "# Play and Adjust Frame Rate of Audiosegment"
   ]
  },
  {
   "cell_type": "code",
   "execution_count": 31,
   "id": "6b76785a",
   "metadata": {},
   "outputs": [
    {
     "name": "stdout",
     "output_type": "stream",
     "text": [
      "48000\n",
      "2\n",
      "8484\n",
      "16000\n"
     ]
    }
   ],
   "source": [
    "# Import AudioSegment and play\n",
    "from pydub import AudioSegment\n",
    "from pydub.playback import play\n",
    "\n",
    "# Create an AudioSegment instance\n",
    "wav_file = AudioSegment.from_file(file=\"wav_file.wav\",format=\"wav\")\n",
    "\n",
    "# Find the frame rate\n",
    "print(wav_file.frame_rate)\n",
    "\n",
    "print(wav_file.channels)\n",
    "print(wav_file.max)\n",
    "\n",
    "# Create a new wav file with adjusted frame rate\n",
    "wav_file_16k = wav_file.set_frame_rate(16000)\n",
    "\n",
    "# Check the frame rate of the new wav file\n",
    "print(wav_file_16k.frame_rate)"
   ]
  },
  {
   "cell_type": "markdown",
   "id": "2c2cf122",
   "metadata": {},
   "source": [
    "# Adjusting the Volume of Audio files"
   ]
  },
  {
   "cell_type": "code",
   "execution_count": 41,
   "id": "af582807",
   "metadata": {},
   "outputs": [],
   "source": [
    "# Import AudioSegment and normalize\n",
    "from pydub import AudioSegment\n",
    "from pydub.effects import normalize\n",
    "# Import audio file\n",
    "volume_adjusted = AudioSegment.from_file('volume_adjusted.wav')\n",
    "\n",
    "# Lower the volume by 60 dB\n",
    "quiet_volume_adjusted = volume_adjusted - 60"
   ]
  },
  {
   "cell_type": "markdown",
   "id": "7f3cc7c7",
   "metadata": {},
   "source": [
    "# Segment and Joining Two Audio Files"
   ]
  },
  {
   "cell_type": "code",
   "execution_count": 61,
   "id": "24a8beb2",
   "metadata": {},
   "outputs": [],
   "source": [
    "from pydub import AudioSegment\n",
    "\n",
    "# Import part 1 and part 2 audio files\n",
    "part_1 = AudioSegment.from_file('part_1.wav')\n",
    "part_2 = AudioSegment.from_file('part_2.wav')\n",
    "\n",
    "# Remove the first four seconds of part 1\n",
    "part_1_removed = part_1[4000:]\n",
    "\n",
    "# Add the remainder of part 1 and part 2 together\n",
    "part_3 = part_1_removed + part_2"
   ]
  },
  {
   "cell_type": "markdown",
   "id": "8719037a",
   "metadata": {},
   "source": [
    "# Spliting Stereo audio files to seperate channels"
   ]
  },
  {
   "cell_type": "code",
   "execution_count": 42,
   "id": "ecfa7cb5",
   "metadata": {},
   "outputs": [
    {
     "name": "stdout",
     "output_type": "stream",
     "text": [
      "Stereo number channels: 2\n",
      "Split number channels: 1, 1\n"
     ]
    }
   ],
   "source": [
    "# Import stereo audio file and check channels\n",
    "stereo_phone_call = AudioSegment.from_file(\"stereo_call.wav\")\n",
    "print(f\"Stereo number channels: {stereo_phone_call.channels}\")\n",
    "\n",
    "# Split stereo phone call and check channels\n",
    "channels = stereo_phone_call.split_to_mono()\n",
    "print(f\"Split number channels: {channels[0].channels}, {channels[1].channels}\")\n",
    "\n",
    "# Save new channels separately\n",
    "phone_call_channel_1 = channels[0]\n",
    "phone_call_channel_2 = channels[1]"
   ]
  },
  {
   "cell_type": "markdown",
   "id": "029a071a",
   "metadata": {},
   "source": [
    "# Converting audio to the right format"
   ]
  },
  {
   "cell_type": "markdown",
   "id": "ee30880d",
   "metadata": {},
   "source": [
    "## References"
   ]
  },
  {
   "cell_type": "markdown",
   "id": "a8b2dcdb",
   "metadata": {},
   "source": [
    " DataCamp Course 'Spoken Language Processing in Python' by Daniel Bourke"
   ]
  },
  {
   "cell_type": "code",
   "execution_count": null,
   "id": "cb3d21d7",
   "metadata": {},
   "outputs": [],
   "source": []
  }
 ],
 "metadata": {
  "kernelspec": {
   "display_name": "Python 3 (ipykernel)",
   "language": "python",
   "name": "python3"
  },
  "language_info": {
   "codemirror_mode": {
    "name": "ipython",
    "version": 3
   },
   "file_extension": ".py",
   "mimetype": "text/x-python",
   "name": "python",
   "nbconvert_exporter": "python",
   "pygments_lexer": "ipython3",
   "version": "3.8.13"
  }
 },
 "nbformat": 4,
 "nbformat_minor": 5
}
